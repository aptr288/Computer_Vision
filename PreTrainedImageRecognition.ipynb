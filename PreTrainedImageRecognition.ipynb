{
  "nbformat": 4,
  "nbformat_minor": 0,
  "metadata": {
    "colab": {
      "name": "PreTrainedImageRecognition.ipynb",
      "version": "0.3.2",
      "provenance": []
    },
    "kernelspec": {
      "name": "python3",
      "display_name": "Python 3"
    }
  },
  "cells": [
    {
      "cell_type": "code",
      "metadata": {
        "id": "1tsbuSDfM9Mf",
        "colab_type": "code",
        "colab": {
          "base_uri": "https://localhost:8080/",
          "height": 230
        },
        "outputId": "5d7b0168-512a-4265-b34d-61cd9d2ccdae"
      },
      "source": [
        "import numpy as np\n",
        "from keras.preprocessing import image\n",
        "from keras.applications import resnet50\n",
        "\n",
        "# Load Keras' ResNet50 model that was pre-trained against the ImageNet database\n",
        "model = resnet50.ResNet50()\n",
        "\n",
        "# Load the image file, resizing it to 224x224 pixels (required by this model)\n",
        "img = image.load_img(\"bay.jpg\", target_size=(224, 224))\n",
        "\n",
        "# Convert the image to a numpy array\n",
        "x = image.img_to_array(img)\n",
        "\n",
        "# Add a forth dimension since Keras expects a list of images\n",
        "x = np.expand_dims(x, axis=0)\n",
        "\n",
        "# Scale the input image to the range used in the trained network\n",
        "x = resnet50.preprocess_input(x)\n",
        "\n",
        "# Run the image through the deep neural network to make a prediction\n",
        "predictions = model.predict(x)\n",
        "\n",
        "# Look up the names of the predicted classes. Index zero is the results for the first image.\n",
        "predicted_classes = resnet50.decode_predictions(predictions, top=9)\n",
        "\n",
        "print(\"This is an image of:\")\n",
        "\n",
        "for imagenet_id, name, likelihood in predicted_classes[0]:\n",
        "    print(\" - {}: {:2f} likelihood\".format(name, likelihood))\n",
        "\n"
      ],
      "execution_count": 2,
      "outputs": [
        {
          "output_type": "stream",
          "text": [
            "Downloading data from https://storage.googleapis.com/download.tensorflow.org/data/imagenet_class_index.json\n",
            "40960/35363 [==================================] - 0s 0us/step\n",
            "This is an image of:\n",
            " - seashore: 0.482729 likelihood\n",
            " - lakeside: 0.329962 likelihood\n",
            " - dock: 0.105208 likelihood\n",
            " - breakwater: 0.051778 likelihood\n",
            " - promontory: 0.009503 likelihood\n",
            " - catamaran: 0.004744 likelihood\n",
            " - sandbar: 0.002375 likelihood\n",
            " - trimaran: 0.001249 likelihood\n",
            " - pier: 0.001172 likelihood\n"
          ],
          "name": "stdout"
        }
      ]
    }
  ]
}